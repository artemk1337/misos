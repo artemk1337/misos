{
 "cells": [
  {
   "cell_type": "code",
   "execution_count": 6,
   "metadata": {},
   "outputs": [],
   "source": [
    "def B(x, k, i, t):\n",
    "   if k == 0:\n",
    "      return 1.0 if t[i] <= x < t[i+1] else 0.0\n",
    "   if t[i+k] == t[i]:\n",
    "      c1 = 0.0\n",
    "   else:\n",
    "      c1 = (x - t[i])/(t[i+k] - t[i]) * B(x, k-1, i, t)\n",
    "   if t[i+k+1] == t[i+1]:\n",
    "      c2 = 0.0\n",
    "   else:\n",
    "      c2 = (t[i+k+1] - x)/(t[i+k+1] - t[i+1]) * B(x, k-1, i+1, t)\n",
    "   return c1 + c2\n",
    "\n",
    "\n",
    "def bspline(x, t, c, k):\n",
    "   n = len(t) - k - 1\n",
    "   assert (n >= k+1) and (len(c) >= n)\n",
    "   return sum(c[i] * B(x, k, i, t) for i in range(n))\n",
    "  \n",
    "  "
   ]
  },
  {
   "cell_type": "code",
   "execution_count": 17,
   "metadata": {},
   "outputs": [
    {
     "data": {
      "text/plain": [
       "1.375"
      ]
     },
     "execution_count": 17,
     "metadata": {},
     "output_type": "execute_result"
    }
   ],
   "source": [
    "k = 2\n",
    "t = [0, 1, 2, 3, 4, 5, 6]\n",
    "c = [-1, 2, 0, -1]\n",
    "\n",
    "bspline(2.5, t, c, k)"
   ]
  },
  {
   "cell_type": "code",
   "execution_count": 25,
   "metadata": {},
   "outputs": [
    {
     "data": {
      "image/png": "[encoded data removed]",
      "text/plain": [
       "<Figure size 432x288 with 1 Axes>"
      ]
     },
     "metadata": {
      "needs_background": "light"
     },
     "output_type": "display_data"
    }
   ],
   "source": [
    "import matplotlib.pyplot as plt\n",
    "import numpy as np\n",
    "\n",
    "fig, ax = plt.subplots()\n",
    "xx = np.linspace(1.5, 4.5, 50)\n",
    "ax.plot(xx, [bspline(x, t, c ,k) for x in xx], 'r-', lw=3, label='result')\n",
    "ax.grid()\n",
    "ax.legend(loc='best')\n",
    "plt.show()"
   ]
  }
 ],
 "metadata": {
  "kernelspec": {
   "display_name": "Python 3",
   "language": "python",
   "name": "python3"
  },
  "toc": {
   "base_numbering": 1,
   "nav_menu": {},
   "number_sections": true,
   "sideBar": true,
   "skip_h1_title": false,
   "title_cell": "Table of Contents",
   "title_sidebar": "Contents",
   "toc_cell": false,
   "toc_position": {},
   "toc_section_display": true,
   "toc_window_display": false
  }
 },
 "nbformat": 4,
 "nbformat_minor": 4
}
